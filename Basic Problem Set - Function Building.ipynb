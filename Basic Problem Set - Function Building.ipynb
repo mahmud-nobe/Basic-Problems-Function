{
 "cells": [
  {
   "cell_type": "code",
   "execution_count": 1,
   "metadata": {},
   "outputs": [],
   "source": [
    "def checkRoots(a,b,c):\n",
    "    # finding the discriminant\n",
    "    discriminant = (b*b) - (4*a*c)\n",
    "    \n",
    "    # check the discriminant and returning accordingly\n",
    "    if (discriminant > 0):\n",
    "        return (\"different roots\")\n",
    "    elif (discriminant == 0):\n",
    "        return(\"equal roots\")\n",
    "    else:\n",
    "        return(\"complex\")"
   ]
  },
  {
   "cell_type": "code",
   "execution_count": 2,
   "metadata": {},
   "outputs": [
    {
     "data": {
      "text/plain": [
       "'equal roots'"
      ]
     },
     "execution_count": 2,
     "metadata": {},
     "output_type": "execute_result"
    }
   ],
   "source": [
    "checkRoots(1,2,1)"
   ]
  },
  {
   "cell_type": "code",
   "execution_count": 3,
   "metadata": {},
   "outputs": [],
   "source": [
    "def findMinimum(Lst):\n",
    "    # if the list is empty return False\n",
    "    if (Lst==[]):\n",
    "        return False\n",
    "    \n",
    "    else:\n",
    "        # Set the first one as minumum, then iterate through the whole loop and\n",
    "        # every time check if the element is lower than the minimum.\n",
    "        # if it is lower, then set the element as minimum.\n",
    "        minimum = Lst[0]\n",
    "        for i in range(len(Lst)):\n",
    "            if(Lst[i] < minimum):\n",
    "                minimum = Lst[i]\n",
    "        \n",
    "        # returning the minimum once all iterations are done\n",
    "        return minimum"
   ]
  },
  {
   "cell_type": "code",
   "execution_count": 4,
   "metadata": {},
   "outputs": [
    {
     "data": {
      "text/plain": [
       "1"
      ]
     },
     "execution_count": 4,
     "metadata": {},
     "output_type": "execute_result"
    }
   ],
   "source": [
    "findMinimum([2,1,3])"
   ]
  },
  {
   "cell_type": "code",
   "execution_count": 5,
   "metadata": {},
   "outputs": [],
   "source": [
    "def robotReturnToOrigin(str):\n",
    "    # Keep the position of the Robot in a 2 element \n",
    "    # list in this order: (x,y)\n",
    "    position = [0,0]\n",
    "    \n",
    "    # move the position for every character accordingly\n",
    "    for i in str:\n",
    "        if (i=='U'):\n",
    "            position[1] += 1\n",
    "        elif (i=='D'):\n",
    "            position[1] -= 1\n",
    "        elif (i=='L'):\n",
    "            position[0] -= 1\n",
    "        elif (i=='R'):\n",
    "            position[0] += 1\n",
    "            \n",
    "    # Print if the new position is the origin or not\n",
    "    return(position == [0,0])"
   ]
  },
  {
   "cell_type": "code",
   "execution_count": 6,
   "metadata": {},
   "outputs": [
    {
     "data": {
      "text/plain": [
       "True"
      ]
     },
     "execution_count": 6,
     "metadata": {},
     "output_type": "execute_result"
    }
   ],
   "source": [
    "robotReturnToOrigin(\"UD\")"
   ]
  },
  {
   "cell_type": "code",
   "execution_count": 7,
   "metadata": {},
   "outputs": [
    {
     "data": {
      "text/plain": [
       "False"
      ]
     },
     "execution_count": 7,
     "metadata": {},
     "output_type": "execute_result"
    }
   ],
   "source": [
    "robotReturnToOrigin(\"LL\")"
   ]
  },
  {
   "cell_type": "code",
   "execution_count": 8,
   "metadata": {},
   "outputs": [],
   "source": [
    "def findSecondHighestNumber(Lst):\n",
    "    # find the length of the list \n",
    "    length = len(Lst)\n",
    "    \n",
    "    # if the length is lower than 2, return False\n",
    "    if(length < 2):\n",
    "        return False\n",
    "    else:\n",
    "        # iterate through every element of the list and store \n",
    "        # the larger number every time in a variable called 'highest'\n",
    "        highest = Lst[0]\n",
    "        for i in range(len(Lst)):\n",
    "            if(Lst[i] > highest):\n",
    "                highest = Lst[i]\n",
    "         \n",
    "        # Now make another varibale highest_2nd and check everytime if it is larger than\n",
    "        # the elements of the list AND lower than the highest number.\n",
    "        highest_2nd = Lst[0]\n",
    "        for i in range(len(Lst)):\n",
    "            if(Lst[i] > highest_2nd and Lst[i] < highest):\n",
    "                highest_2nd = Lst[i]\n",
    "                \n",
    "        return(highest_2nd)"
   ]
  },
  {
   "cell_type": "code",
   "execution_count": 9,
   "metadata": {},
   "outputs": [
    {
     "data": {
      "text/plain": [
       "False"
      ]
     },
     "execution_count": 9,
     "metadata": {},
     "output_type": "execute_result"
    }
   ],
   "source": [
    "findSecondHighestNumber([2])"
   ]
  },
  {
   "cell_type": "code",
   "execution_count": 10,
   "metadata": {},
   "outputs": [
    {
     "data": {
      "text/plain": [
       "4"
      ]
     },
     "execution_count": 10,
     "metadata": {},
     "output_type": "execute_result"
    }
   ],
   "source": [
    "findSecondHighestNumber([3,2,5,4,1])"
   ]
  },
  {
   "cell_type": "code",
   "execution_count": 11,
   "metadata": {},
   "outputs": [],
   "source": [
    "def listOfEvenNumbers(start,end):\n",
    "    # create an empty list to store our output\n",
    "    evenlist = []\n",
    "    \n",
    "    # for every integer in the given range check if it is even.\n",
    "    # if even, then append it in the list\n",
    "    for i in range(start,end):\n",
    "        if(i%2 == 0):\n",
    "            evenlist.append(i)\n",
    "            \n",
    "    return(evenlist)"
   ]
  },
  {
   "cell_type": "code",
   "execution_count": 12,
   "metadata": {},
   "outputs": [
    {
     "data": {
      "text/plain": [
       "[4, 6, 8]"
      ]
     },
     "execution_count": 12,
     "metadata": {},
     "output_type": "execute_result"
    }
   ],
   "source": [
    "listOfEvenNumbers(3,9)"
   ]
  },
  {
   "cell_type": "code",
   "execution_count": 13,
   "metadata": {},
   "outputs": [],
   "source": [
    "def isPalindrome(Lst):\n",
    "    \n",
    "    # set i,j as the first and last index of the list\n",
    "    i = 0\n",
    "    j = len(Lst) -1\n",
    "    \n",
    "    for i in range(len(Lst)):\n",
    "        # check if the 1st element is equal the last element.\n",
    "        # if they are not equal, then end the function returning False\n",
    "        if (Lst[i] != Lst[j-i]):\n",
    "            return False\n",
    "        \n",
    "        # decrease the value of j by 1. The value of i will be increased by 1\n",
    "        # once it reinter the for loop again. Then the loop will check the 2nd first \n",
    "        # element with the 2nd last element and it will continue.\n",
    "        j -= 1\n",
    "        \n",
    "        # if we cross the middle point of the list, i will be larger then j. \n",
    "        # We can break the loop as we already compared the last ones with first ones.\n",
    "        if (i>=j):\n",
    "            break\n",
    "    \n",
    "    # if the function didn't finish inside of the loop, \n",
    "    # it means there was no unmatch. So it is a palindrome.\n",
    "    return True"
   ]
  },
  {
   "cell_type": "code",
   "execution_count": 14,
   "metadata": {},
   "outputs": [
    {
     "data": {
      "text/plain": [
       "False"
      ]
     },
     "execution_count": 14,
     "metadata": {},
     "output_type": "execute_result"
    }
   ],
   "source": [
    "isPalindrome([5,6,5])"
   ]
  },
  {
   "cell_type": "code",
   "execution_count": 15,
   "metadata": {},
   "outputs": [],
   "source": [
    "def sign(i):\n",
    "    if (i<0):\n",
    "        return -1\n",
    "    elif (i>0):\n",
    "        return 1\n",
    "    else:\n",
    "        return 0"
   ]
  },
  {
   "cell_type": "code",
   "execution_count": 16,
   "metadata": {},
   "outputs": [
    {
     "name": "stdout",
     "output_type": "stream",
     "text": [
      "1 0 -1\n"
     ]
    }
   ],
   "source": [
    "print(sign(5), sign(0), sign(-2))"
   ]
  },
  {
   "cell_type": "code",
   "execution_count": 17,
   "metadata": {},
   "outputs": [],
   "source": [
    "def isUpper(str):\n",
    "    for i in str:\n",
    "        # check every element if it is between 'A' and 'Z'\n",
    "        if (i >= 'A' and i <= 'Z'):\n",
    "            continue\n",
    "        \n",
    "        # if not then end the function returning False\n",
    "        else:\n",
    "            return False\n",
    "    \n",
    "    # if the function didn't end inside of the loop, all of them is Capital\n",
    "    return True"
   ]
  },
  {
   "cell_type": "code",
   "execution_count": 18,
   "metadata": {},
   "outputs": [
    {
     "data": {
      "text/plain": [
       "True"
      ]
     },
     "execution_count": 18,
     "metadata": {},
     "output_type": "execute_result"
    }
   ],
   "source": [
    "isUpper(\"ABC\")"
   ]
  },
  {
   "cell_type": "code",
   "execution_count": 19,
   "metadata": {},
   "outputs": [
    {
     "data": {
      "text/plain": [
       "False"
      ]
     },
     "execution_count": 19,
     "metadata": {},
     "output_type": "execute_result"
    }
   ],
   "source": [
    "isUpper(\"ABCd\")"
   ]
  },
  {
   "cell_type": "code",
   "execution_count": 20,
   "metadata": {},
   "outputs": [],
   "source": [
    "def isAnagram(str1, str2):\n",
    "    len1 = len(str1)\n",
    "    len2 = len(str2)\n",
    "    \n",
    "    # check the lengths, if the length differ\n",
    "    # end the function returning False\n",
    "    if (len1 != len2):\n",
    "        return False\n",
    "    else:\n",
    "        # iterate through every element of the first string.\n",
    "        for i in str1:\n",
    "            match = False\n",
    "            # initially the match is false.\n",
    "            # check each element of the 2nd string. If there is at least one match found\n",
    "            # match will be True at the end. If no match, then match will be false.\n",
    "            for j in str2:\n",
    "                match = match or (i == j)\n",
    "              \n",
    "            # if there is no match found in the 2nd string, end the function.\n",
    "            if (not match):\n",
    "                return False\n",
    "            \n",
    "        # if the function didn't end inside of the loop, every elements matched.\n",
    "        # so they are anagram.\n",
    "        return True"
   ]
  },
  {
   "cell_type": "code",
   "execution_count": 21,
   "metadata": {},
   "outputs": [
    {
     "data": {
      "text/plain": [
       "True"
      ]
     },
     "execution_count": 21,
     "metadata": {},
     "output_type": "execute_result"
    }
   ],
   "source": [
    "isAnagram(\"iceman\",\"cinema\")"
   ]
  },
  {
   "cell_type": "code",
   "execution_count": 22,
   "metadata": {},
   "outputs": [],
   "source": [
    "def allUnique(str):\n",
    "    \n",
    "    # iterate through the whole string\n",
    "    for i in str:\n",
    "        count = 0\n",
    "        \n",
    "        # initially the count is 0.\n",
    "        # iterate through the string again and count the same element i\n",
    "        for j in str:\n",
    "            if (i==j): \n",
    "                count += 1\n",
    "        \n",
    "        # the count will be 1 as we are going through the loop again. \n",
    "        # But if it is bigger than one, then the letters are not unique.\n",
    "        if (count > 1):\n",
    "            return False\n",
    "    \n",
    "    # if no counts is not larger than 1, then it is a unique string\n",
    "    return True"
   ]
  },
  {
   "cell_type": "code",
   "execution_count": 23,
   "metadata": {},
   "outputs": [
    {
     "data": {
      "text/plain": [
       "False"
      ]
     },
     "execution_count": 23,
     "metadata": {},
     "output_type": "execute_result"
    }
   ],
   "source": [
    "allUnique('hello')"
   ]
  },
  {
   "cell_type": "code",
   "execution_count": 24,
   "metadata": {},
   "outputs": [
    {
     "data": {
      "text/plain": [
       "True"
      ]
     },
     "execution_count": 24,
     "metadata": {},
     "output_type": "execute_result"
    }
   ],
   "source": [
    "allUnique('uncopyrightable')"
   ]
  }
 ],
 "metadata": {
  "kernelspec": {
   "display_name": "Python 3",
   "language": "python",
   "name": "python3"
  },
  "language_info": {
   "codemirror_mode": {
    "name": "ipython",
    "version": 3
   },
   "file_extension": ".py",
   "mimetype": "text/x-python",
   "name": "python",
   "nbconvert_exporter": "python",
   "pygments_lexer": "ipython3",
   "version": "3.6.8"
  }
 },
 "nbformat": 4,
 "nbformat_minor": 2
}
